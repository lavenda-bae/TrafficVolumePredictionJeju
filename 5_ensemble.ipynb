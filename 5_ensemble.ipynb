{
 "cells": [
  {
   "cell_type": "markdown",
   "metadata": {},
   "source": [
    "# Ensemble"
   ]
  },
  {
   "cell_type": "code",
   "execution_count": null,
   "metadata": {},
   "outputs": [],
   "source": [
    "import pandas as pd\n",
    "from tqdm import tqdm"
   ]
  },
  {
   "cell_type": "markdown",
   "metadata": {},
   "source": [
    "### Ensemble Setting"
   ]
  },
  {
   "cell_type": "code",
   "execution_count": null,
   "metadata": {},
   "outputs": [],
   "source": [
    "single_model_indexs=[[7,8,9,23,3,0,5,10],[7,13,9,17,15,19,22,14],[7,8,9,4,3,10,11],[7,8,9,4,3,10,11,12,13,14,5,0,1],[7,8,9,4,3,10,11,12,13,14,5,15,16,17,19,6,20,21,18,22],[7,24,16,24,13,11,20,10,9,8],[7,8,9,4,3,10,11,12,13,14,5,0],[7,8,9,4,3,2,22,6],[9,25,7,26,24,23],[7,12,11,14,22,17],[],[],[],[],[],[2]]\n",
    "ensemble_indexs=[[],[],[],[],[],[],[],[],[],[2],[1,2,9],[5,9],[1,9,2],[0,11,10,6,3,12,4,7],[0,10,3,12,4],[14,12]]\n",
    "ensemble_methods=[['Mean'],['Mean'],['Mean'],['Mean'],['Mean'],['Mean'],['Mean'],['Mean'],['Mean'],['Mean'],['Mean'],['Mean'],['Median'],['Median'],['Median,INT'],['Median']]"
   ]
  },
  {
   "cell_type": "markdown",
   "metadata": {},
   "source": [
    "###  Ensemble with given setting"
   ]
  },
  {
   "cell_type": "code",
   "execution_count": null,
   "metadata": {},
   "outputs": [],
   "source": [
    "sample_submission = pd.read_csv('./dataset/sample_submission.csv')\n",
    "for i in tqdm(range(len(single_model_indexs))):\n",
    "    sample_submission['target']=0\n",
    "\n",
    "    # Mean 앙상블\n",
    "    if ensemble_methods[i]=='Mean':\n",
    "        for s_ind in single_model_indexs[i]:\n",
    "            sample_submission['target'] += pd.read_csv(f'./model_prediction_{s_ind}.csv')['target']\n",
    "        for e_ind in ensemble_indexs[i]:\n",
    "            sample_submission['target'] += pd.read_csv(f'./ensemble_{e_ind}.csv')['target']\n",
    "        sample_submission['target'] /= len(single_model_indexs[i])+len(ensemble_indexs[i])\n",
    "\n",
    "    # Median 앙상블\n",
    "    else:\n",
    "        cnt=0\n",
    "        for s_ind in single_model_indexs[i]:\n",
    "            sample_submission[f'sample{cnt}'] = pd.read_csv(f'./model_prediction_{s_ind}.csv')['target']\n",
    "            cnt+=1\n",
    "        for e_ind in ensemble_indexs[i]:\n",
    "            sample_submission[f'sample{cnt}'] = pd.read_csv(f'./ensemble_{e_ind}.csv')['target']\n",
    "            cnt+=1\n",
    "        sample_submission['target'] = sample_submission.filter(like='sample').apply(lambda x: x.median(), axis=1)\n",
    "        \n",
    "        sample_submission = sample_submission.drop([f'sample{j}' for j in range(len(single_model_indexs[i])+len(ensemble_indexs[i]))],axis=1)\n",
    "        # 앙상블 결과 int로 변환하기\n",
    "        if ensemble_methods[i]=='Median,INT':\n",
    "            sample_submission['target'] = sample_submission.apply(lambda x: x['target']//1,axis=1)\n",
    "\n",
    "    # 앙상블 결과 저장\n",
    "    if i==len(single_model_indexs)-1:\n",
    "        sample_submission.to_csv('./ensemble_submission.csv',index=False)\n",
    "    else:\n",
    "        sample_submission.to_csv(f'./ensemble_{i}.csv',index=False)\n"
   ]
  }
 ],
 "metadata": {
  "kernelspec": {
   "display_name": "Python 3.9.0 64-bit",
   "language": "python",
   "name": "python3"
  },
  "language_info": {
   "name": "python",
   "version": "3.9.0"
  },
  "orig_nbformat": 4,
  "vscode": {
   "interpreter": {
    "hash": "aee8b7b246df8f9039afb4144a1f6fd8d2ca17a180786b69acc140d282b71a49"
   }
  }
 },
 "nbformat": 4,
 "nbformat_minor": 2
}
