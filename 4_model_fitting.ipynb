{
 "cells": [
  {
   "cell_type": "markdown",
   "metadata": {},
   "source": [
    "# Model fitting"
   ]
  },
  {
   "cell_type": "code",
   "execution_count": null,
   "metadata": {},
   "outputs": [],
   "source": [
    "import pandas as pd\n",
    "from tqdm import tqdm"
   ]
  },
  {
   "cell_type": "code",
   "execution_count": null,
   "metadata": {},
   "outputs": [],
   "source": [
    "train = pd.read_parquet('./dataset/train_파생변수.parquet')\n",
    "test = pd.read_parquet('./dataset/test_파생변수.parquet')"
   ]
  },
  {
   "cell_type": "markdown",
   "metadata": {},
   "source": [
    "### Label Encoding"
   ]
  },
  {
   "cell_type": "code",
   "execution_count": null,
   "metadata": {},
   "outputs": [],
   "source": [
    "from sklearn.preprocessing import LabelEncoder\n",
    "import numpy as np\n",
    "\n",
    "str_col = ['road_rating','start_turn_restricted','road_name','end_turn_restricted','road_type','day_of_week', 'start_node_name', 'end_node_name','isfriday','day_weight']\n",
    "for i in str_col:\n",
    "    le = LabelEncoder()\n",
    "    le=le.fit(train[i])\n",
    "    for label in np.unique(test[i]):\n",
    "        if label not in le.classes_: \n",
    "            le.classes_ = np.append(le.classes_, label)\n",
    "    train[i]=le.transform(train[i])\n",
    "    test[i]=le.transform(test[i])"
   ]
  },
  {
   "cell_type": "markdown",
   "metadata": {},
   "source": [
    "## API Install"
   ]
  },
  {
   "cell_type": "code",
   "execution_count": null,
   "metadata": {},
   "outputs": [],
   "source": [
    "!pip install catboost\n",
    "!pip install xgboost\n",
    "!git clone --recursive https://github.com/Microsoft/LightGBM\n",
    "! cd LightGBM && rm -rf build && mkdir build && cd build && cmake -DUSE_GPU=1 ../../LightGBM && make -j4 && cd ../python-package && python3 setup.py install --precompile --gpu;"
   ]
  },
  {
   "cell_type": "code",
   "execution_count": null,
   "metadata": {},
   "outputs": [],
   "source": [
    "from sklearn.preprocessing import LabelEncoder\n",
    "from sklearn.preprocessing import StandardScaler  \n",
    "from sklearn.preprocessing import MinMaxScaler\n",
    "import lightgbm as lgb\n",
    "from catboost import CatBoostRegressor\n",
    "from xgboost import XGBRegressor \n",
    "from sklearn.metrics import mean_absolute_error\n",
    "from sklearn.model_selection import train_test_split\n",
    "from sklearn.ensemble import GradientBoostingRegressor\n",
    "from sklearn.preprocessing import PolynomialFeatures"
   ]
  },
  {
   "cell_type": "markdown",
   "metadata": {},
   "source": [
    "## Model setting"
   ]
  },
  {
   "cell_type": "code",
   "execution_count": null,
   "metadata": {},
   "outputs": [],
   "source": [
    "model_nm=['GradientBoosting','XGBoost','CatBoost','CatBoost','CatBoost','CatBoost','LightGBM','LightGBM_POLY','LightGBM','LightGBM','LightGBM','LightGBM','LightGBM','LightGBM','LightGBM','LightGBM','LightGBM','LightGBM','LightGBM','LightGBM','LightGBM','LightGBM','LightGBM','LightGBM','LightGBM','LightGBM','LightGBM']\n",
    "drop_cols=[['id', 'vehicle_restricted', 'base_date', 'isfriday'], ['id', 'vehicle_restricted', 'base_date'], ['id', 'vehicle_restricted', 'base_date'], ['id', 'vehicle_restricted', 'base_date'], ['id', 'vehicle_restricted', 'base_date'], ['id', 'base_date', 'vehicle_restricted'], ['id', 'vehicle_restricted', 'base_date'], ['id', 'vehicle_restricted', 'base_date'], ['id', 'vehicle_restricted', 'base_date'], ['id', 'vehicle_restricted', 'base_date'], ['id', 'vehicle_restricted', 'base_date'], ['id', 'vehicle_restricted', 'base_date'], ['id', 'vehicle_restricted', 'base_date'], ['id', 'vehicle_restricted', 'base_date'], ['id', 'vehicle_restricted', 'base_date'], ['id', 'vehicle_restricted', 'base_date'], ['id', 'vehicle_restricted', 'base_date'], ['id', 'vehicle_restricted', 'base_date'], ['id', 'vehicle_restricted', 'base_date'], ['id', 'vehicle_restricted', 'base_date'], ['id', 'vehicle_restricted', 'base_date'], ['id', 'vehicle_restricted', 'base_date'], ['id', 'vehicle_restricted', 'base_date'], ['id', 'vehicle_restricted', 'base_date'], ['id', 'vehicle_restricted', 'base_date'], ['id', 'vehicle_restricted', 'base_date'], ['id', 'vehicle_restricted', 'base_date']]\n",
    "cols=[['id', 'base_date', 'day_of_week', 'base_hour', 'lane_count', 'road_rating', 'road_name', 'multi_linked', 'connect_code', 'maximum_speed_limit', 'vehicle_restricted', 'weight_restricted', 'height_restricted', 'road_type', 'start_node_name', 'start_latitude', 'start_longitude', 'start_turn_restricted', 'end_node_name', 'end_latitude', 'end_longitude', 'end_turn_restricted', 'target', 'day_weight', 'distance', 'hour_mean_speed', 'day_mean_speed', 'road_mean_speed', 'lane_mean_speed', 'maxspeed_mean', 'roadrating_mean', 'roadtype_mean', 'isfriday'], ['id', 'base_date', 'day_of_week', 'base_hour', 'lane_count', 'road_rating', 'road_name', 'multi_linked', 'connect_code', 'maximum_speed_limit', 'vehicle_restricted', 'weight_restricted', 'height_restricted', 'road_type', 'start_node_name', 'start_latitude', 'start_longitude', 'start_turn_restricted', 'end_node_name', 'end_latitude', 'end_longitude', 'end_turn_restricted', 'target', 'day_weight', 'distance', 'hour_mean_speed', 'day_mean_speed', 'road_mean_speed', 'lane_mean_speed', 'maxspeed_mean', 'roadrating_mean', 'roadtype_mean'], ['id', 'base_date', 'day_of_week', 'base_hour', 'lane_count', 'road_rating', 'road_name', 'multi_linked', 'connect_code', 'maximum_speed_limit', 'vehicle_restricted', 'weight_restricted', 'height_restricted', 'road_type', 'start_node_name', 'start_latitude', 'start_longitude', 'start_turn_restricted', 'end_node_name', 'end_latitude', 'end_longitude', 'end_turn_restricted', 'target', 'day_weight', 'distance', 'hour_mean_speed', 'day_mean_speed', 'road_mean_speed', 'lane_mean_speed', 'maxspeed_mean', 'roadrating_mean', 'roadtype_mean', 'isfriday'], ['id', 'base_date', 'day_of_week', 'base_hour', 'lane_count', 'road_rating', 'road_name', 'multi_linked', 'connect_code', 'maximum_speed_limit', 'vehicle_restricted', 'weight_restricted', 'height_restricted', 'road_type', 'start_node_name', 'start_latitude', 'start_longitude', 'start_turn_restricted', 'end_node_name', 'end_latitude', 'end_longitude', 'end_turn_restricted', 'target', 'day_weight', 'distance', 'hour_mean_speed', 'day_mean_speed', 'road_mean_speed', 'lane_mean_speed', 'maxspeed_mean', 'roadrating_mean', 'roadtype_mean'], ['id', 'base_date', 'day_of_week', 'base_hour', 'lane_count', 'road_rating', 'road_name', 'multi_linked', 'connect_code', 'maximum_speed_limit', 'vehicle_restricted', 'weight_restricted', 'height_restricted', 'road_type', 'start_node_name', 'start_latitude', 'start_longitude', 'start_turn_restricted', 'end_node_name', 'end_latitude', 'end_longitude', 'end_turn_restricted', 'target', 'day_weight', 'distance', 'hour_mean_speed', 'day_mean_speed', 'road_mean_speed', 'lane_mean_speed', 'maxspeed_mean', 'roadrating_mean', 'roadtype_mean'], ['id', 'base_date', 'day_of_week', 'base_hour', 'lane_count', 'road_rating', 'road_name', 'multi_linked', 'connect_code', 'maximum_speed_limit', 'vehicle_restricted', 'weight_restricted', 'height_restricted', 'road_type', 'start_node_name', 'start_latitude', 'start_longitude', 'start_turn_restricted', 'end_node_name', 'end_latitude', 'end_longitude', 'end_turn_restricted', 'distance', 'hour_mean_speed', 'day_mean_speed', 'road_mean_speed', 'lane_mean_speed', 'maxspeed_mean', 'roadrating_mean', 'roadtype_mean', 'lane_mean_july', 'maxspeed_mean_july', 'roadrating_mean_july', 'roadtype_mean_july', 'target'], ['id', 'base_date', 'day_of_week', 'base_hour', 'lane_count', 'road_rating', 'road_name', 'multi_linked', 'connect_code', 'maximum_speed_limit', 'vehicle_restricted', 'weight_restricted', 'height_restricted', 'road_type', 'start_node_name', 'start_latitude', 'start_longitude', 'start_turn_restricted', 'end_node_name', 'end_latitude', 'end_longitude', 'end_turn_restricted', 'distance', 'hour_mean_speed', 'day_mean_speed', 'road_mean_speed', 'lane_mean_speed', 'maxspeed_mean', 'roadrating_mean', 'roadtype_mean', 'lane_mean_july', 'maxspeed_mean_july', 'roadrating_mean_july', 'roadtype_mean_july', 'target'], ['id', 'base_date', 'day_of_week', 'base_hour', 'lane_count', 'road_rating', 'road_name', 'multi_linked', 'connect_code', 'maximum_speed_limit', 'vehicle_restricted', 'weight_restricted', 'height_restricted', 'road_type', 'start_node_name', 'start_latitude', 'start_longitude', 'start_turn_restricted', 'end_node_name', 'end_latitude', 'end_longitude', 'end_turn_restricted', 'distance', 'hour_mean_speed', 'day_mean_speed', 'road_mean_speed', 'lane_mean_speed', 'maxspeed_mean', 'roadrating_mean', 'roadtype_mean', 'lane_mean_july', 'maxspeed_mean_july', 'roadrating_mean_july', 'roadtype_mean_july', 'target'], ['id', 'base_date', 'day_of_week', 'base_hour', 'lane_count', 'road_rating', 'road_name', 'multi_linked', 'connect_code', 'maximum_speed_limit', 'vehicle_restricted', 'weight_restricted', 'height_restricted', 'road_type', 'start_node_name', 'start_latitude', 'start_longitude', 'start_turn_restricted', 'end_node_name', 'end_latitude', 'end_longitude', 'end_turn_restricted', 'distance', 'hour_mean_speed', 'day_mean_speed', 'road_mean_speed', 'lane_mean_speed', 'maxspeed_mean', 'roadrating_mean', 'roadtype_mean', 'lane_mean_july', 'maxspeed_mean_july', 'roadrating_mean_july', 'roadtype_mean_july', 'target'], ['id', 'base_date', 'day_of_week', 'base_hour', 'lane_count', 'road_rating', 'road_name', 'multi_linked', 'connect_code', 'maximum_speed_limit', 'vehicle_restricted', 'weight_restricted', 'height_restricted', 'road_type', 'start_node_name', 'start_latitude', 'start_longitude', 'start_turn_restricted', 'end_node_name', 'end_latitude', 'end_longitude', 'end_turn_restricted', 'distance', 'hour_mean_speed', 'day_mean_speed', 'road_mean_speed', 'lane_mean_speed', 'maxspeed_mean', 'roadrating_mean', 'roadtype_mean', 'lane_mean_july', 'maxspeed_mean_july', 'roadrating_mean_july', 'roadtype_mean_july', 'target'], ['id', 'base_date', 'day_of_week', 'base_hour', 'lane_count', 'road_rating', 'road_name', 'multi_linked', 'connect_code', 'maximum_speed_limit', 'vehicle_restricted', 'weight_restricted', 'height_restricted', 'road_type', 'start_node_name', 'start_latitude', 'start_longitude', 'start_turn_restricted', 'end_node_name', 'end_latitude', 'end_longitude', 'end_turn_restricted', 'distance', 'hour_mean_speed', 'day_mean_speed', 'road_mean_speed', 'lane_mean_speed', 'maxspeed_mean', 'roadrating_mean', 'roadtype_mean', 'lane_mean_july', 'maxspeed_mean_july', 'roadrating_mean_july', 'roadtype_mean_july', 'target'], ['id', 'base_date', 'day_of_week', 'base_hour', 'lane_count', 'road_rating', 'road_name', 'multi_linked', 'connect_code', 'maximum_speed_limit', 'vehicle_restricted', 'weight_restricted', 'height_restricted', 'road_type', 'start_node_name', 'start_latitude', 'start_longitude', 'start_turn_restricted', 'end_node_name', 'end_latitude', 'end_longitude', 'end_turn_restricted', 'distance', 'hour_mean_speed', 'day_mean_speed', 'road_mean_speed', 'lane_mean_speed', 'maxspeed_mean', 'roadrating_mean', 'roadtype_mean', 'lane_mean_july', 'maxspeed_mean_july', 'roadrating_mean_july', 'roadtype_mean_july', 'target'], ['id', 'base_date', 'day_of_week', 'base_hour', 'lane_count', 'road_rating', 'road_name', 'multi_linked', 'connect_code', 'maximum_speed_limit', 'vehicle_restricted', 'weight_restricted', 'height_restricted', 'road_type', 'start_node_name', 'start_latitude', 'start_longitude', 'start_turn_restricted', 'end_node_name', 'end_latitude', 'end_longitude', 'end_turn_restricted', 'distance', 'hour_mean_speed', 'day_mean_speed', 'road_mean_speed', 'lane_mean_speed', 'maxspeed_mean', 'roadrating_mean', 'roadtype_mean', 'lane_mean_july', 'maxspeed_mean_july', 'roadrating_mean_july', 'roadtype_mean_july', 'target'], ['id', 'base_date', 'day_of_week', 'base_hour', 'lane_count', 'road_rating', 'road_name', 'multi_linked', 'connect_code', 'maximum_speed_limit', 'vehicle_restricted', 'weight_restricted', 'height_restricted', 'road_type', 'start_node_name', 'start_latitude', 'start_longitude', 'start_turn_restricted', 'end_node_name', 'end_latitude', 'end_longitude', 'end_turn_restricted', 'distance', 'hour_mean_speed', 'day_mean_speed', 'road_mean_speed', 'lane_mean_speed', 'maxspeed_mean', 'roadrating_mean', 'roadtype_mean', 'lane_mean_july', 'maxspeed_mean_july', 'roadrating_mean_july', 'roadtype_mean_july', 'target'], ['id', 'base_date', 'day_of_week', 'base_hour', 'lane_count', 'road_rating', 'road_name', 'multi_linked', 'connect_code', 'maximum_speed_limit', 'vehicle_restricted', 'weight_restricted', 'height_restricted', 'road_type', 'start_node_name', 'start_latitude', 'start_longitude', 'start_turn_restricted', 'end_node_name', 'end_latitude', 'end_longitude', 'end_turn_restricted', 'day_weight', 'distance', 'hour_mean_speed', 'day_mean_speed', 'road_mean_speed', 'lane_mean_speed_x', 'maxspeed_mean_x', 'roadrating_mean_x', 'roadtype_mean_x', 'lane_mean_speed_y', 'maxspeed_mean_y', 'roadrating_mean_y', 'roadtype_mean_y', 'target'], ['id', 'base_date', 'day_of_week', 'base_hour', 'lane_count', 'road_rating', 'road_name', 'multi_linked', 'connect_code', 'maximum_speed_limit', 'vehicle_restricted', 'weight_restricted', 'height_restricted', 'road_type', 'start_node_name', 'start_latitude', 'start_longitude', 'start_turn_restricted', 'end_node_name', 'end_latitude', 'end_longitude', 'end_turn_restricted', 'day_weight', 'distance', 'hour_mean_speed', 'day_mean_speed', 'road_mean_speed', 'lane_mean_speed_x', 'maxspeed_mean_x', 'roadrating_mean_x', 'roadtype_mean_x', 'lane_mean_speed_y', 'maxspeed_mean_y', 'roadrating_mean_y', 'roadtype_mean_y', 'target'], ['id', 'base_date', 'day_of_week', 'base_hour', 'lane_count', 'road_rating', 'road_name', 'multi_linked', 'connect_code', 'maximum_speed_limit', 'vehicle_restricted', 'weight_restricted', 'height_restricted', 'road_type', 'start_node_name', 'start_latitude', 'start_longitude', 'start_turn_restricted', 'end_node_name', 'end_latitude', 'end_longitude', 'end_turn_restricted', 'target', 'day_weight', 'distance', 'hour_mean_speed', 'day_mean_speed', 'road_mean_speed', 'lane_mean_speed', 'maxspeed_mean', 'roadrating_mean', 'roadtype_mean', 'isfriday'], ['id', 'base_date', 'day_of_week', 'base_hour', 'lane_count', 'road_rating', 'road_name', 'multi_linked', 'connect_code', 'maximum_speed_limit', 'vehicle_restricted', 'weight_restricted', 'height_restricted', 'road_type', 'start_node_name', 'start_latitude', 'start_longitude', 'start_turn_restricted', 'end_node_name', 'end_latitude', 'end_longitude', 'end_turn_restricted', 'target', 'distance', 'hour_mean_speed', 'day_mean_speed', 'road_mean_speed', 'lane_mean_speed', 'maxspeed_mean', 'roadrating_mean', 'roadtype_mean', 'month_mean', 'lane_mean_july', 'maxspeed_mean_july', 'roadrating_mean_july', 'roadtype_mean_july'], ['id', 'base_date', 'day_of_week', 'base_hour', 'lane_count', 'road_rating', 'road_name', 'multi_linked', 'connect_code', 'maximum_speed_limit', 'vehicle_restricted', 'weight_restricted', 'height_restricted', 'road_type', 'start_node_name', 'start_latitude', 'start_longitude', 'start_turn_restricted', 'end_node_name', 'end_latitude', 'end_longitude', 'end_turn_restricted', 'target', 'distance', 'hour_mean_speed', 'day_mean_speed', 'road_mean_speed', 'lane_mean_speed', 'maxspeed_mean', 'roadrating_mean', 'roadtype_mean', 'month_mean', 'lane_mean_july', 'maxspeed_mean_july', 'roadrating_mean_july', 'roadtype_mean_july'], ['id', 'base_date', 'day_of_week', 'base_hour', 'lane_count', 'road_rating', 'road_name', 'multi_linked', 'connect_code', 'maximum_speed_limit', 'vehicle_restricted', 'weight_restricted', 'height_restricted', 'road_type', 'start_node_name', 'start_latitude', 'start_longitude', 'start_turn_restricted', 'end_node_name', 'end_latitude', 'end_longitude', 'end_turn_restricted', 'target', 'distance', 'hour_mean_speed', 'day_mean_speed', 'road_mean_speed', 'lane_mean_speed', 'maxspeed_mean', 'roadrating_mean', 'roadtype_mean', 'month_mean', 'lane_mean_july', 'maxspeed_mean_july', 'roadrating_mean_july', 'roadtype_mean_july', 'hour_mean_july', 'day_mean_july', 'road_mean_july'], ['id', 'base_date', 'day_of_week', 'base_hour', 'lane_count', 'road_rating', 'road_name', 'multi_linked', 'connect_code', 'maximum_speed_limit', 'vehicle_restricted', 'weight_restricted', 'height_restricted', 'road_type', 'start_node_name', 'start_latitude', 'start_longitude', 'start_turn_restricted', 'end_node_name', 'end_latitude', 'end_longitude', 'end_turn_restricted', 'target', 'distance', 'hour_mean_speed', 'day_mean_speed', 'road_mean_speed', 'lane_mean_speed', 'maxspeed_mean', 'roadrating_mean', 'roadtype_mean', 'month_mean', 'lane_mean_july', 'maxspeed_mean_july', 'roadrating_mean_july', 'roadtype_mean_july'], ['id', 'base_date', 'day_of_week', 'base_hour', 'lane_count', 'road_rating', 'road_name', 'multi_linked', 'connect_code', 'maximum_speed_limit', 'vehicle_restricted', 'weight_restricted', 'height_restricted', 'road_type', 'start_node_name', 'start_latitude', 'start_longitude', 'start_turn_restricted', 'end_node_name', 'end_latitude', 'end_longitude', 'end_turn_restricted', 'target', 'distance', 'hour_mean_speed', 'day_mean_speed', 'road_mean_speed', 'lane_mean_speed', 'maxspeed_mean', 'roadrating_mean', 'roadtype_mean', 'month_mean', 'lane_mean_july', 'maxspeed_mean_july', 'roadrating_mean_july', 'roadtype_mean_july'], ['id', 'base_date', 'day_of_week', 'base_hour', 'lane_count', 'road_rating', 'road_name', 'multi_linked', 'connect_code', 'maximum_speed_limit', 'vehicle_restricted', 'weight_restricted', 'height_restricted', 'road_type', 'start_node_name', 'start_latitude', 'start_longitude', 'start_turn_restricted', 'end_node_name', 'end_latitude', 'end_longitude', 'end_turn_restricted', 'target', 'distance', 'hour_mean_speed', 'day_mean_speed', 'road_mean_speed', 'lane_mean_speed', 'maxspeed_mean', 'roadrating_mean', 'roadtype_mean', 'month_mean', 'lane_mean_july', 'maxspeed_mean_july', 'roadrating_mean_july', 'roadtype_mean_july'], ['id', 'base_date', 'day_of_week', 'base_hour', 'lane_count', 'road_rating', 'road_name', 'multi_linked', 'connect_code', 'maximum_speed_limit', 'vehicle_restricted', 'weight_restricted', 'height_restricted', 'road_type', 'start_node_name', 'start_latitude', 'start_longitude', 'start_turn_restricted', 'end_node_name', 'end_latitude', 'end_longitude', 'end_turn_restricted', 'day_weight', 'distance', 'hour_mean_speed', 'day_mean_speed', 'road_mean_speed', 'lane_mean_speed', 'maxspeed_mean', 'roadrating_mean', 'roadtype_mean', 'isfriday', 'target'], ['id', 'base_date', 'day_of_week', 'base_hour', 'lane_count', 'road_rating', 'road_name', 'multi_linked', 'connect_code', 'maximum_speed_limit', 'vehicle_restricted', 'weight_restricted', 'height_restricted', 'road_type', 'start_node_name', 'start_latitude', 'start_longitude', 'start_turn_restricted', 'end_node_name', 'end_latitude', 'end_longitude', 'end_turn_restricted', 'day_weight', 'distance', 'hour_mean_speed', 'day_mean_speed', 'road_mean_speed', 'lane_mean_speed', 'maxspeed_mean', 'roadrating_mean', 'roadtype_mean', 'isfriday', 'target'], ['id', 'base_date', 'day_of_week', 'base_hour', 'lane_count', 'road_rating', 'road_name', 'multi_linked', 'connect_code', 'maximum_speed_limit', 'vehicle_restricted', 'weight_restricted', 'height_restricted', 'road_type', 'start_node_name', 'start_latitude', 'start_longitude', 'start_turn_restricted', 'end_node_name', 'end_latitude', 'end_longitude', 'end_turn_restricted', 'distance', 'hour_mean_speed', 'day_mean_speed', 'road_mean_speed', 'lane_mean_speed', 'maxspeed_mean', 'roadrating_mean', 'roadtype_mean', 'lane_mean_july', 'maxspeed_mean_july', 'roadrating_mean_july', 'roadtype_mean_july', 'target'], ['id', 'base_date', 'day_of_week', 'base_hour', 'lane_count', 'road_rating', 'road_name', 'multi_linked', 'connect_code', 'maximum_speed_limit', 'vehicle_restricted', 'weight_restricted', 'height_restricted', 'road_type', 'start_node_name', 'start_latitude', 'start_longitude', 'start_turn_restricted', 'end_node_name', 'end_latitude', 'end_longitude', 'end_turn_restricted', 'distance', 'hour_mean_speed', 'day_mean_speed', 'road_mean_speed', 'lane_mean_speed', 'maxspeed_mean', 'roadrating_mean', 'roadtype_mean', 'lane_mean_july', 'maxspeed_mean_july', 'roadrating_mean_july', 'roadtype_mean_july', 'target']]\n",
    "h_params=[{'n_estimators': 1833, 'max_depth': 5, 'learning_rate': 0.1121792759, 'verbose': 0}, {'n_estimators': 9699, 'max_depth': 7, 'learning_rate': 0.1603481692, 'num_leaves': 10, 'verbose': -1}, {'n_estimators': 7482, 'max_depth': 16, 'learning_rate': 0.08874432474, 'colsample_bylevel': 0.8985728179926714, 'subsample': 0.9456095953392613, 'min_child_samples': 76, 'max_bin': 441, 'l2_leaf_reg': 4.369161316123442}, {'n_estimators': 6356, 'max_depth': 8, 'learning_rate': 0.05564907504, 'l2_leaf_reg': 4.861011004218151, 'min_child_samples': 23}, {'n_estimators': 3797, 'max_depth': 11, 'learning_rate': 0.02776310885, 'l2_leaf_reg': 5.149047265858214, 'min_child_samples': 12}, {'n_estimators': 3315, 'max_depth': 11, 'learning_rate': 0.07331924703}, {'n_estimators': 8976, 'max_depth': 10, 'learning_rate': 0.08747145625, 'num_leaves': 10, 'min_child_weight': 74, 'alpha': 0.09206520231143506, 'subsample': 0.5296666607945134}, {'n_estimators': 1048, 'max_depth': 20, 'learning_rate': 0.09961398955, 'num_leaves': 32}, {'n_estimators': 13037, 'max_depth': 14, 'learning_rate': 0.08952616823, 'num_leaves': 16, 'verbose': -1}, {'n_estimators': 12935, 'max_depth': 17, 'learning_rate': 0.06636082526, 'num_leaves': 17, 'verbose': -1}, {'n_estimators': 5624, 'max_depth': 20, 'learning_rate': 0.01863652732, 'num_leaves': 164}, {'n_estimators': 2473, 'max_depth': 19, 'learning_rate': 0.03943885644, 'num_leaves': 102}, {'n_estimators': 6690, 'max_depth': 17, 'learning_rate': 0.01807948951, 'num_leaves': 119}, {'n_estimators': 7093, 'max_depth': 18, 'learning_rate': 0.02448476821, 'num_leaves': 85}, {'n_estimators': 4292, 'max_depth': 16, 'learning_rate': 0.03043742343, 'num_leaves': 97}, {'n_estimators': 4168, 'max_depth': 13, 'learning_rate': 0.04860827553, 'num_leaves': 85}, {'n_estimators': 2576, 'max_depth': 29, 'learning_rate': 0.0431085983, 'num_leaves': 245, 'verbosity': -1}, {'n_estimators': 1593, 'max_depth': 42, 'learning_rate': 0.01033448085, 'num_leaves': 245, 'verbosity': -1}, {'n_estimators': 836, 'max_depth': 42, 'learning_rate': 0.1540753462, 'num_leaves': 113, 'verbosity': -1}, {'n_estimators': 727, 'max_depth': 34, 'learning_rate': 0.1600727117, 'num_leaves': 74, 'verbosity': -1}, {'n_estimators': 9789, 'max_depth': 29, 'learning_rate': 0.06871880461, 'num_leaves': 46, 'verbosity': -1}, {'n_estimators': 12266, 'max_depth': 20, 'learning_rate': 0.05269683494, 'num_leaves': 56, 'verbosity': -1}, {'n_estimators': 3630, 'max_depth': 33, 'learning_rate': 0.1021564607, 'num_leaves': 70, 'verbosity': -1}, {'n_estimators': 866, 'max_depth': 19, 'learning_rate': 0.05244185073, 'num_leaves': 20}, {'n_estimators': 3725, 'max_depth': 16, 'learning_rate': 0.1291892976, 'num_leaves': 14}, {'n_estimators': 11963, 'max_depth': 28, 'learning_rate': 0.06079772926, 'subsample': 0.9873435671739007, 'num_leaves': 18, 'verbose': -1, 'min_child_samples': 52, 'reg_lambda': 3.6402158460803955}, {'n_estimators': 1185, 'max_depth': 18, 'learning_rate': 0.1782109397, 'num_leaves': 50, 'verbose': -1}]\n",
    "period =['7','7','7','7','7','-7','-7','7','7','7','7','7','7','7','7','7','7','1~7','7','7','5~7','5~7','4~7','7.5','7.5','7','7'\n",
    "]"
   ]
  },
  {
   "cell_type": "code",
   "execution_count": null,
   "metadata": {},
   "outputs": [],
   "source": [
    "# Return Model object by model name\n",
    "def get_model(model_nm,params):\n",
    "    if model_nm=='LightGBM':\n",
    "        model = lgb.LGBMRegressor(**params, random_state=1, n_jobs=-1)\n",
    "    elif model_nm=='CatBoost':\n",
    "        model = CatBoostRegressor(**params,random_state=1)\n",
    "    elif model_nm=='XGBoost':\n",
    "        model = XGBRegressor(**params,random_state=1)\n",
    "    elif model_nm=='GradientBoosting':\n",
    "        model = GradientBoostingRegressor(**params,random_state=1)\n",
    "    elif model_nm=='LightGBM_POLY':\n",
    "        model = lgb.LGBMRegressor(**params, random_state=1, n_jobs=-1)\n",
    "    return model"
   ]
  },
  {
   "cell_type": "code",
   "execution_count": null,
   "metadata": {},
   "outputs": [],
   "source": [
    "# Return trainset of given period\n",
    "def get_period(period_str,inp_train):\n",
    "    if '-' in period_str:\n",
    "        inp_train['mon']= inp_train.apply(lambda x : int(str(x['base_date'])[4:6]),axis=1)\n",
    "        inp_train=inp_train[inp_train['mon']!=int(period_str.replace('-',''))]\n",
    "        inp_train.drop(columns=['mon'],inplace=True)\n",
    "        return inp_train\n",
    "    elif '~' in period_str:\n",
    "        inp_train['mon']= inp_train.apply(lambda x : int(str(x['base_date'])[4:6]),axis=1)\n",
    "        inp_train=inp_train[(inp_train['mon']>int(period_str.split('~')[0]))& (inp_train['mon']<=int(period_str.split('~')[1]))]\n",
    "        inp_train.drop(columns=['mon'],inplace=True)\n",
    "        return inp_train\n",
    "    elif period_str=='7.5':\n",
    "        inp_train['mon']= inp_train.apply(lambda x : int(str(x['base_date'])[4:6]),axis=1)\n",
    "        inp_train['day']= inp_train.apply(lambda x : int(str(x['base_date'])[6:8]),axis=1)\n",
    "        inp_train=inp_train[inp_train['mon']==7]\n",
    "        inp_train=inp_train[inp_train['day']>15]\n",
    "        inp_train.drop(columns=['mon','day'],inplace=True)\n",
    "        return inp_train\n",
    "    else:\n",
    "        inp_train['mon']= inp_train.apply(lambda x : int(str(x['base_date'])[4:6]),axis=1)\n",
    "        inp_train=inp_train[inp_train['mon']==7]\n",
    "        inp_train.drop(columns=['mon'],inplace=True)\n",
    "        return inp_train"
   ]
  },
  {
   "cell_type": "code",
   "execution_count": null,
   "metadata": {},
   "outputs": [],
   "source": [
    "sample_submission = pd.read_csv('./dataset/sample_submission.csv')\n",
    "\n",
    "for i, m_name in tqdm(enumerate(model_nm),total=len(model_nm)):\n",
    "    inp_train = train\n",
    "    inp_test = test\n",
    "    if 'lane_mean_speed_y' in cols[i]:\n",
    "        inp_train = pd.merge(inp_train,inp_train[[ 'id','lane_mean_speed','maxspeed_mean','roadrating_mean','roadtype_mean']],how='left',on='id')\n",
    "        inp_test = pd.merge(inp_test,inp_test[[ 'id','lane_mean_speed','maxspeed_mean','roadrating_mean','roadtype_mean']],how='left',on='id')\n",
    "    # 해당 모델 사용한 column 가져오기\n",
    "    inp_train = inp_train[cols[i]]\n",
    "    cols[i].remove('target')\n",
    "    inp_test= inp_test[cols[i]]\n",
    "    # 해당 모델 사용한 데이터셋 기간 가져오기\n",
    "    inp_train = get_period(period[i],inp_train)\n",
    "    train_y = inp_train['target']    \n",
    "    \n",
    "    # 해당 모델 사용 안한 column drop\n",
    "    inp_train = inp_train.drop(drop_cols[i]+['target'], axis=1)\n",
    "    inp_test = inp_test.drop(drop_cols[i], axis=1)\n",
    "\n",
    "    # Polynomial features 처리\n",
    "    if m_name=='LightGBM_POLY':\n",
    "        poly_features = PolynomialFeatures(degree=2) \n",
    "        df_poly = poly_features.fit_transform(inp_train) # fit_transform 메소드를 통해 데이터 변환\n",
    "        inp_train = pd.DataFrame(df_poly) # PolynomialFeatures로 변환 된 데이터를 데이터 프레임 형태로 변환\n",
    "\n",
    "    model=get_model(m_name,h_params[i])\n",
    "\n",
    "    X_train, X_val, y_train, y_val = train_test_split(inp_train, train_y, test_size=0.2, random_state=1)\n",
    "\n",
    "    model.fit(X_train, y_train)\n",
    "\n",
    "    if m_name=='LightGBM_POLY':\n",
    "        inp_test = poly_features.fit_transform(inp_test)\n",
    "\n",
    "    sample_submission['target'] = model.predict(inp_test)\n",
    "    sample_submission.to_csv(f'./model_prediction_{i}.csv',index=False)\n",
    "    "
   ]
  }
 ],
 "metadata": {
  "kernelspec": {
   "display_name": "Python 3.9.0 64-bit",
   "language": "python",
   "name": "python3"
  },
  "language_info": {
   "name": "python",
   "version": "3.9.0"
  },
  "orig_nbformat": 4,
  "vscode": {
   "interpreter": {
    "hash": "aee8b7b246df8f9039afb4144a1f6fd8d2ca17a180786b69acc140d282b71a49"
   }
  }
 },
 "nbformat": 4,
 "nbformat_minor": 2
}
