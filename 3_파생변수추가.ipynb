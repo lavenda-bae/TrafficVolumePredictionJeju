{
 "cells": [
  {
   "cell_type": "code",
   "execution_count": 4,
   "metadata": {},
   "outputs": [],
   "source": [
    "import pandas as pd\n",
    "from tqdm import tqdm\n",
    "pd.set_option('display.max_columns',None)"
   ]
  },
  {
   "cell_type": "code",
   "execution_count": 2,
   "metadata": {},
   "outputs": [],
   "source": [
    "train = pd.read_parquet('./dataset/train_파생변수.parquet')\n",
    "test = pd.read_parquet('./dataset/test_파생변수.parquet')"
   ]
  },
  {
   "cell_type": "markdown",
   "metadata": {},
   "source": [
    "# (요일별 가중치,금요일 여부) Column 추가"
   ]
  },
  {
   "cell_type": "code",
   "execution_count": null,
   "metadata": {},
   "outputs": [],
   "source": [
    "#day_weight 컬럼 추가\n",
    "train['day_weight'] = 0\n",
    "\n",
    "train.loc[(train['day_of_week'] == '월')|(train['day_of_week'] == '금'),'day_weight'] = 2\n",
    "train.loc[(train['day_of_week'] == '토')|(train['day_of_week'] == '일'),'day_weight'] = 3\n",
    "train.loc[(train['day_of_week'] == '화')|(train['day_of_week'] == '수')|(train['day_of_week'] == '목'),'day_weight'] = 1\n",
    "\n",
    "test['day_weight'] = 0\n",
    "\n",
    "test.loc[(test['day_of_week'] == '월')|(test['day_of_week'] == '금'),'day_weight'] = 2\n",
    "test.loc[(test['day_of_week'] == '토')|(test['day_of_week'] == '일'),'day_weight'] = 3\n",
    "test.loc[(test['day_of_week'] == '화')|(test['day_of_week'] == '수')|(test['day_of_week'] == '목'),'day_weight'] = 1\n",
    "\n",
    "train['isfriday']=train.progress_apply(lambda row : True if row['day_of_week']=='금' else False,axis=1)\n",
    "test['isfriday']=test.progress_apply(lambda row : True if row['day_of_week']=='금' else False,axis=1)"
   ]
  },
  {
   "cell_type": "markdown",
   "metadata": {},
   "source": [
    "# 구간 길이 파생 변수 추가"
   ]
  },
  {
   "cell_type": "code",
   "execution_count": 11,
   "metadata": {},
   "outputs": [
    {
     "name": "stderr",
     "output_type": "stream",
     "text": [
      "100%|██████████| 4701217/4701217 [02:27<00:00, 31860.37it/s]\n",
      "100%|██████████| 291241/291241 [00:08<00:00, 33675.10it/s]\n"
     ]
    }
   ],
   "source": [
    "# !pip install haversine\n",
    "from haversine import haversine\n",
    "\n",
    "# 위도경도를 이용해서 거리 구하기(Km기준)\n",
    "tqdm.pandas()\n",
    "train['distance']= train.progress_apply(lambda row : haversine((row['start_latitude'], row['start_longitude']),(row['end_latitude'],row['end_longitude']),unit='km'),axis=1)\n",
    "test['distance']= test.progress_apply(lambda row : haversine((row['start_latitude'], row['start_longitude']),(row['end_latitude'],row['end_longitude']),unit='km'),axis=1)"
   ]
  },
  {
   "cell_type": "markdown",
   "metadata": {},
   "source": [
    "# (요일별, 시간별, 도로별) 평균속도 파생변수 추가 (3 columns)"
   ]
  },
  {
   "cell_type": "code",
   "execution_count": null,
   "metadata": {},
   "outputs": [],
   "source": [
    "print(f\"Trains : {len(train)} , Tests : {len(test)}\")\n",
    "hour_mean = train.groupby(['base_hour']).mean()\n",
    "hour_mean.drop(columns=hour_mean.columns.drop('target'), inplace=True)\n",
    "hour_mean.rename(columns={'target':'hour_mean_speed'},inplace=True)\n",
    "\n",
    "day_mean = train.groupby(['day_of_week']).mean()\n",
    "day_mean.drop(columns=day_mean.columns.drop('target'), inplace=True)\n",
    "day_mean.rename(columns={'target':'day_mean_speed'},inplace=True)\n",
    "\n",
    "road_mean = train.groupby(['road_name']).mean()\n",
    "road_mean.drop(columns=road_mean.columns.drop('target'), inplace=True)\n",
    "road_mean.rename(columns={'target':'road_mean_speed'},inplace=True)\n",
    "\n",
    "\n",
    "train = pd.merge(train,hour_mean,how=\"left\",on=['base_hour'])\n",
    "train = pd.merge(train,day_mean,how=\"left\",on=['day_of_week'])\n",
    "train = pd.merge(train,road_mean,how=\"left\",on=['road_name'])\n",
    "\n",
    "test = pd.merge(test,hour_mean,how=\"left\",on=['base_hour'])\n",
    "test = pd.merge(test,day_mean,how=\"left\",on=['day_of_week'])\n",
    "test = pd.merge(test,road_mean,how=\"left\",on=['road_name'])\n",
    "\n",
    "print(f\"Trains : {len(train)} , Tests : {len(test)}\")\n",
    "print(f\"Trains Nan : {train['hour_mean_speed'].isna().sum()},  Test Nan : {test['hour_mean_speed'].isna().sum()}\")\n",
    "print(f\"Trains Nan : {train['day_mean_speed'].isna().sum()},  Test Nan : {test['day_mean_speed'].isna().sum()}\")\n",
    "print(f\"Trains Nan : {train['road_mean_speed'].isna().sum()},  Test Nan : {test['road_mean_speed'].isna().sum()}\")"
   ]
  },
  {
   "cell_type": "markdown",
   "metadata": {},
   "source": [
    "# (차선수, 통행속도제한, 도로등급, 도로유형)별 평균속도 파생변수 추가 (4 columns)"
   ]
  },
  {
   "cell_type": "code",
   "execution_count": null,
   "metadata": {},
   "outputs": [],
   "source": [
    "print(f\"Trains : {len(train)} , Tests : {len(test)}\")\n",
    "lane_mean = train.groupby(['lane_count']).mean()\n",
    "lane_mean.drop(columns=lane_mean.columns.drop('target'), inplace=True)\n",
    "lane_mean.rename(columns={'target':'lane_mean_speed'},inplace=True)\n",
    "\n",
    "maxspeed_mean = train.groupby(['maximum_speed_limit']).mean()\n",
    "maxspeed_mean.drop(columns=maxspeed_mean.columns.drop('target'), inplace=True)\n",
    "maxspeed_mean.rename(columns={'target':'maxspeed_mean'},inplace=True)\n",
    "\n",
    "roadrating_mean = train.groupby(['road_rating']).mean()\n",
    "roadrating_mean.drop(columns=roadrating_mean.columns.drop('target'), inplace=True)\n",
    "roadrating_mean.rename(columns={'target':'roadrating_mean'},inplace=True)\n",
    "\n",
    "roadtype_mean = train.groupby(['road_type']).mean()\n",
    "roadtype_mean.drop(columns=roadtype_mean.columns.drop('target'), inplace=True)\n",
    "roadtype_mean.rename(columns={'target':'roadtype_mean'},inplace=True)\n",
    "\n",
    "train = pd.merge(train,lane_mean,how=\"left\",on=['lane_count'])\n",
    "train = pd.merge(train,maxspeed_mean,how=\"left\",on=['maximum_speed_limit'])\n",
    "train = pd.merge(train,roadrating_mean,how=\"left\",on=['road_rating'])\n",
    "train = pd.merge(train,roadtype_mean,how=\"left\",on=['road_type'])\n",
    "\n",
    "test = pd.merge(test,lane_mean,how=\"left\",on=['lane_count'])\n",
    "test = pd.merge(test,maxspeed_mean,how=\"left\",on=['maximum_speed_limit'])\n",
    "test = pd.merge(test,roadrating_mean,how=\"left\",on=['road_rating'])\n",
    "test = pd.merge(test,roadtype_mean,how=\"left\",on=['road_type'])\n",
    "\n",
    "print(f\"Trains : {len(train)} , Tests : {len(test)}\")\n",
    "print(f\"Trains Nan : {train['lane_count'].isna().sum()},  Test Nan : {test['lane_count'].isna().sum()}\")\n",
    "print(f\"Trains Nan : {train['maximum_speed_limit'].isna().sum()},  Test Nan : {test['maximum_speed_limit'].isna().sum()}\")\n",
    "print(f\"Trains Nan : {train['road_rating'].isna().sum()},  Test Nan : {test['road_rating'].isna().sum()}\")\n",
    "print(f\"Trains Nan : {train['road_type'].isna().sum()},  Test Nan : {test['road_type'].isna().sum()}\")"
   ]
  },
  {
   "cell_type": "markdown",
   "metadata": {},
   "source": [
    "# 7월 (요일별, 시간별, 도로별, 차선수, 통행속도제한, 도로등급, 도로유형)별 평균속도 파생변수 추가"
   ]
  },
  {
   "cell_type": "code",
   "execution_count": 1,
   "metadata": {},
   "outputs": [],
   "source": [
    "import math\n",
    "tqdm.pandas()\n",
    "train_july=train\n",
    "train_july['month'] = train_july.progress_apply(lambda x : int(str(x['base_date'])[4:6]),axis=1)\n",
    "train_july=train_july[train_july['month']==7].drop(columns=['month'])\n",
    "\n",
    "print(f\"Trains : {len(train)} , Tests : {len(test)}\")\n",
    "hour_mean = train_july.groupby(['base_hour']).mean()\n",
    "hour_mean.drop(columns=hour_mean.columns.drop('target'), inplace=True)\n",
    "hour_mean.rename(columns={'target':'hour_mean_july'},inplace=True)\n",
    "\n",
    "day_mean = train_july.groupby(['day_of_week']).mean()\n",
    "day_mean.drop(columns=day_mean.columns.drop('target'), inplace=True)\n",
    "day_mean.rename(columns={'target':'day_mean_july'},inplace=True)\n",
    "\n",
    "road_mean = train_july.groupby(['road_name']).mean()\n",
    "road_mean.drop(columns=road_mean.columns.drop('target'), inplace=True)\n",
    "road_mean.rename(columns={'target':'road_mean_july'},inplace=True)\n",
    "\n",
    "lane_mean = train_july.groupby(['lane_count']).mean()\n",
    "lane_mean.drop(columns=lane_mean.columns.drop('target'), inplace=True)\n",
    "lane_mean.rename(columns={'target':'lane_mean_july'},inplace=True)\n",
    "\n",
    "maxspeed_mean = train_july.groupby(['maximum_speed_limit']).mean()\n",
    "maxspeed_mean.drop(columns=maxspeed_mean.columns.drop('target'), inplace=True)\n",
    "maxspeed_mean.rename(columns={'target':'maxspeed_mean_july'},inplace=True)\n",
    "\n",
    "roadrating_mean = train_july.groupby(['road_rating']).mean()\n",
    "roadrating_mean.drop(columns=roadrating_mean.columns.drop('target'), inplace=True)\n",
    "roadrating_mean.rename(columns={'target':'roadrating_mean_july'},inplace=True)\n",
    "\n",
    "roadtype_mean = train_july.groupby(['road_type']).mean()\n",
    "roadtype_mean.drop(columns=roadtype_mean.columns.drop('target'), inplace=True)\n",
    "roadtype_mean.rename(columns={'target':'roadtype_mean_july'},inplace=True)\n",
    "\n",
    "train = pd.merge(train,hour_mean,how=\"left\",on=['base_hour'])\n",
    "train = pd.merge(train,day_mean,how=\"left\",on=['day_of_week'])\n",
    "train = pd.merge(train,road_mean,how=\"left\",on=['road_name'])\n",
    "\n",
    "train = pd.merge(train,lane_mean,how=\"left\",on=['lane_count'])\n",
    "train = pd.merge(train,maxspeed_mean,how=\"left\",on=['maximum_speed_limit'])\n",
    "train = pd.merge(train,roadrating_mean,how=\"left\",on=['road_rating'])\n",
    "train = pd.merge(train,roadtype_mean,how=\"left\",on=['road_type'])\n",
    "\n",
    "test = pd.merge(test,hour_mean,how=\"left\",on=['base_hour'])\n",
    "test = pd.merge(test,day_mean,how=\"left\",on=['day_of_week'])\n",
    "test = pd.merge(test,road_mean,how=\"left\",on=['road_name'])\n",
    "\n",
    "test = pd.merge(test,lane_mean,how=\"left\",on=['lane_count'])\n",
    "test = pd.merge(test,maxspeed_mean,how=\"left\",on=['maximum_speed_limit'])\n",
    "test = pd.merge(test,roadrating_mean,how=\"left\",on=['road_rating'])\n",
    "test = pd.merge(test,roadtype_mean,how=\"left\",on=['road_type'])\n",
    "\n",
    "# 7월 데이터에 없는 도로 평균속도 column 전체기간 도로 평균속도로 대체 \n",
    "train['road_mean_july'] = train.progress_apply(lambda row : row['road_mean_speed'] if math.isnan(row['road_mean_july']) else row['road_mean_july'],axis=1)\n",
    "\n",
    "train.drop(columns=['month'],inplace=True)\n",
    "print(f\"Trains : {len(train)} , Tests : {len(test)}\")\n",
    "print(f\"Trains Nan : {train['hour_mean_july'].isna().sum()},  Test Nan : {test['hour_mean_july'].isna().sum()}\")\n",
    "print(f\"Trains Nan : {train['day_mean_july'].isna().sum()},  Test Nan : {test['day_mean_july'].isna().sum()}\")\n",
    "print(f\"Trains Nan : {train['road_mean_july'].isna().sum()},  Test Nan : {test['road_mean_july'].isna().sum()}\")\n",
    "print(f\"Trains Nan : {train['lane_mean_july'].isna().sum()},  Test Nan : {test['lane_mean_july'].isna().sum()}\")\n",
    "print(f\"Trains Nan : {train['maxspeed_mean_july'].isna().sum()},  Test Nan : {test['maxspeed_mean_july'].isna().sum()}\")\n",
    "print(f\"Trains Nan : {train['roadrating_mean_july'].isna().sum()},  Test Nan : {test['roadrating_mean_july'].isna().sum()}\")\n",
    "print(f\"Trains Nan : {train['roadtype_mean_july'].isna().sum()},  Test Nan : {test['roadtype_mean_july'].isna().sum()}\")"
   ]
  },
  {
   "cell_type": "code",
   "execution_count": null,
   "metadata": {},
   "outputs": [],
   "source": [
    "train.to_parquet('./dataset/train_파생변수.parquet',index=False)\n",
    "test.to_parquet('./dataset/test_파생변수.parquet',index=False)"
   ]
  }
 ],
 "metadata": {
  "kernelspec": {
   "display_name": "Python 3.9.0 64-bit",
   "language": "python",
   "name": "python3"
  },
  "language_info": {
   "codemirror_mode": {
    "name": "ipython",
    "version": 3
   },
   "file_extension": ".py",
   "mimetype": "text/x-python",
   "name": "python",
   "nbconvert_exporter": "python",
   "pygments_lexer": "ipython3",
   "version": "3.9.0"
  },
  "orig_nbformat": 4,
  "vscode": {
   "interpreter": {
    "hash": "aee8b7b246df8f9039afb4144a1f6fd8d2ca17a180786b69acc140d282b71a49"
   }
  }
 },
 "nbformat": 4,
 "nbformat_minor": 2
}
