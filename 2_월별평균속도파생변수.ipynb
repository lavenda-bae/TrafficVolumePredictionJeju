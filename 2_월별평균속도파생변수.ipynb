{
 "cells": [
  {
   "cell_type": "markdown",
   "metadata": {},
   "source": [
    "# 제주도 구간별 일일 평균 통행속도 데이터 -> 월평균 통행속도 table 생성"
   ]
  },
  {
   "cell_type": "code",
   "execution_count": 5,
   "metadata": {},
   "outputs": [],
   "source": [
    "import requests\n",
    "import json\n",
    "import re\n",
    "import geopandas as gpd\n",
    "import pandas as pd\n",
    "from tqdm import tqdm"
   ]
  },
  {
   "cell_type": "code",
   "execution_count": null,
   "metadata": {},
   "outputs": [],
   "source": [
    "df=pd.read_parquet('./dataset/제주일별속도.parquet')\n",
    "tqdm.pandas()\n",
    "df['month']=df.progress_apply(lambda row : int(row['base_date_hour'][4:6]),axis=1)\n",
    "result=df.groupby(['month']).mean()\n",
    "result['month']=result.index\n",
    "result[['month','speed']].to_parquet('./dataset/제주월별평속2019.parquet',index=False)"
   ]
  },
  {
   "cell_type": "markdown",
   "metadata": {},
   "source": [
    "# 2019 월별 속도 Column 추가"
   ]
  },
  {
   "cell_type": "code",
   "execution_count": 92,
   "metadata": {},
   "outputs": [],
   "source": [
    "train = pd.read_csv('./dataset/train.csv')\n",
    "test = pd.read_csv('.dataset/test.csv')\n",
    "mspeed_19 = pd.read_parquet('./dataset/제주월별평속2019.parquet')"
   ]
  },
  {
   "cell_type": "code",
   "execution_count": 95,
   "metadata": {},
   "outputs": [
    {
     "name": "stderr",
     "output_type": "stream",
     "text": [
      "100%|██████████| 4701217/4701217 [01:07<00:00, 69468.43it/s]\n",
      "100%|██████████| 291241/291241 [00:05<00:00, 51538.58it/s]\n"
     ]
    }
   ],
   "source": [
    "tqdm.pandas()\n",
    "train['month']= train.progress_apply(lambda x : int(str(x['base_date'])[4:6]),axis=1)\n",
    "test['month']= test.progress_apply(lambda x : int(str(x['base_date'])[4:6]),axis=1)"
   ]
  },
  {
   "cell_type": "code",
   "execution_count": null,
   "metadata": {},
   "outputs": [],
   "source": [
    "train=pd.merge(train,mspeed_19,how='left', left_on=['month'],right_on=['month']).drop(columns=['month']).rename(columns={'speed':'month_mean'})\n",
    "test=pd.merge(test,mspeed_19,how='left', left_on=['month'],right_on=['month']).drop(columns=['month']).rename(columns={'speed':'month_mean'})"
   ]
  },
  {
   "cell_type": "code",
   "execution_count": 91,
   "metadata": {},
   "outputs": [],
   "source": [
    "train.to_parquet('./dataset/train_파생변수.parquet',index=False)\n",
    "test.to_parquet('./dataset/test_파생변수.parquet',index=False)"
   ]
  }
 ],
 "metadata": {
  "kernelspec": {
   "display_name": "Python 3.9.0 64-bit",
   "language": "python",
   "name": "python3"
  },
  "language_info": {
   "codemirror_mode": {
    "name": "ipython",
    "version": 3
   },
   "file_extension": ".py",
   "mimetype": "text/x-python",
   "name": "python",
   "nbconvert_exporter": "python",
   "pygments_lexer": "ipython3",
   "version": "3.9.0"
  },
  "orig_nbformat": 4,
  "vscode": {
   "interpreter": {
    "hash": "aee8b7b246df8f9039afb4144a1f6fd8d2ca17a180786b69acc140d282b71a49"
   }
  }
 },
 "nbformat": 4,
 "nbformat_minor": 2
}
