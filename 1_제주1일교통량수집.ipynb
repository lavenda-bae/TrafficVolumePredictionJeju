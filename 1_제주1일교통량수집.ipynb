{
 "cells": [
  {
   "cell_type": "markdown",
   "metadata": {},
   "source": [
    "# 제주시 일일 단위 구간별 평균 통행 속도 정보 open api\n",
    "- Link : http://www.jejuits.go.kr/open_api/open_apiView.do\n",
    "- API key  신청 후 사용"
   ]
  },
  {
   "cell_type": "code",
   "execution_count": 2,
   "metadata": {},
   "outputs": [],
   "source": [
    "import requests\n",
    "import json\n",
    "import re\n",
    "import geopandas as gpd\n",
    "import pandas as pd"
   ]
  },
  {
   "cell_type": "code",
   "execution_count": null,
   "metadata": {},
   "outputs": [],
   "source": [
    "from tqdm import tqdm\n",
    "import calendar\n",
    "from datetime import datetime\n",
    "\n",
    "# 제주도 일일 구간별 평균 통행속도 데이터 수집\n",
    "dic_speed = {'base_date_hour':[],'speed':[],'link_id':[]}\n",
    "for month in tqdm(range(1,13),total=13):\n",
    "    for day in range(1,calendar.monthrange(2019, month)[1]):\n",
    "        url =f\"http://api.jejuits.go.kr/api/getFrafficInfodailyStat?code=XXXXXX&statDt=2019{str(month).zfill(2)}{str(day).zfill(2)}&type=R\"\n",
    "        response = requests.get(url)\n",
    "        contents = response.json()['info']\n",
    "        for data in contents:\n",
    "            dic_speed['base_date_hour'].append(data['stat_dt'])\n",
    "            dic_speed['speed'].append(data['sped'])\n",
    "            dic_speed['link_id'].append(data['link_id'])"
   ]
  },
  {
   "cell_type": "code",
   "execution_count": 58,
   "metadata": {},
   "outputs": [],
   "source": [
    "pd.DataFrame(dic_speed).to_parquet('./dataset/제주일별속도.parquet',index=False)\n"
   ]
  }
 ],
 "metadata": {
  "kernelspec": {
   "display_name": "Python 3.9.0 64-bit",
   "language": "python",
   "name": "python3"
  },
  "language_info": {
   "codemirror_mode": {
    "name": "ipython",
    "version": 3
   },
   "file_extension": ".py",
   "mimetype": "text/x-python",
   "name": "python",
   "nbconvert_exporter": "python",
   "pygments_lexer": "ipython3",
   "version": "3.9.0"
  },
  "orig_nbformat": 4,
  "vscode": {
   "interpreter": {
    "hash": "aee8b7b246df8f9039afb4144a1f6fd8d2ca17a180786b69acc140d282b71a49"
   }
  }
 },
 "nbformat": 4,
 "nbformat_minor": 2
}
